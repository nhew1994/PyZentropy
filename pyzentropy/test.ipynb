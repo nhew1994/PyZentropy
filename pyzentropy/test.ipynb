{
 "cells": [
  {
   "cell_type": "code",
   "execution_count": 45,
   "metadata": {},
   "outputs": [],
   "source": [
    "%reload_ext autoreload\n",
    "%autoreload 2\n",
    "import zentropy as zentropy\n"
   ]
  },
  {
   "cell_type": "code",
   "execution_count": 47,
   "metadata": {},
   "outputs": [],
   "source": [
    "input_path = \"C:\\\\Users\\\\nigel\\\\OneDrive\\\\Desktop\\\\VS Code\\\\pyzentropy\\\\PyZentropy\\\\test_data\\\\90DW\\\\original\"\n",
    "output_path = \"C:\\\\Users\\\\nigel\\\\OneDrive\\\\Desktop\\\\VS Code\\\\pyzentropy\\\\PyZentropy\\\\pyzentropy\\\\scaled_phonon_dos\"\n",
    "zentropy.scale_phonon_dos(input_path)"
   ]
  }
 ],
 "metadata": {
  "kernelspec": {
   "display_name": "Python 3",
   "language": "python",
   "name": "python3"
  },
  "language_info": {
   "codemirror_mode": {
    "name": "ipython",
    "version": 3
   },
   "file_extension": ".py",
   "mimetype": "text/x-python",
   "name": "python",
   "nbconvert_exporter": "python",
   "pygments_lexer": "ipython3",
   "version": "3.11.9"
  }
 },
 "nbformat": 4,
 "nbformat_minor": 2
}
